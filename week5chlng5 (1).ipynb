{
  "nbformat": 4,
  "nbformat_minor": 0,
  "metadata": {
    "colab": {
      "provenance": []
    },
    "kernelspec": {
      "name": "python3",
      "display_name": "Python 3"
    },
    "language_info": {
      "name": "python"
    }
  },
  "cells": [
    {
      "cell_type": "code",
      "execution_count": null,
      "metadata": {
        "id": "0qmf-clK1A99"
      },
      "outputs": [],
      "source": [
        "from re import X\n",
        "from os import seteuid\n",
        "\n",
        "# Program 1\n",
        "#then calculate the hypotenuse\n",
        "\n",
        "from math import sqrt\n",
        "print(\"Input lengths of shorter triangle sides:\")\n",
        "a = float(input(\"a: \"))\n",
        "b = float(input(\"b: \"))\n",
        "def hypot():\n",
        "  hypot = sqrt(a**2 + b**2)\n",
        "  print('the hypotenuse',hypot)\n",
        "\n",
        "hypot()\n",
        "print('the hypotenuse',hypot)"
      ]
    },
    {
      "cell_type": "code",
      "source": [
        "# Program 2\n",
        "# Display no of items + Shipping charge\n",
        "# fun = 10.95 + (n-1)2.95\n",
        "\n",
        "n = int(input(\"no of items:\"))\n",
        "x = float(n-1)\n",
        "def shippingcost():\n",
        "  shippingcost = float(10.95+ (x*2.95))\n",
        "  print('shipping cost',shippingcost)\n",
        "shippingcost()\n",
        "print('shipping cost',shippingcost)\n",
        "print('no of items are:',n)\n"
      ],
      "metadata": {
        "id": "TZD2flvv6QpZ"
      },
      "execution_count": null,
      "outputs": []
    },
    {
      "cell_type": "code",
      "source": [
        "# program 3\n",
        "# find median of 3 no.s - sort 3 element, find middle element - CHECK\n",
        "\n",
        "import statistics\n",
        "import math\n",
        "def median():\n",
        "    x = list(input('enter no.s'))\n",
        "    print(sorted(x))\n",
        "    n = len(x)\n",
        "\n",
        "    if n%2 == 0:\n",
        "        median = (float(x[int(n/2)]) +   float(x[int((n-2)/2)]))/2\n",
        "        print('median of even no:',median)\n",
        "    else:\n",
        "        median = float(x[int((n-1)/2)])\n",
        "        print('median of odd no:',median)\n",
        "\n",
        "median()\n"
      ],
      "metadata": {
        "id": "mw59WTJH6RFg"
      },
      "execution_count": null,
      "outputs": []
    },
    {
      "cell_type": "code",
      "source": [
        "# Program 4\n",
        "\n",
        "a = float(input('Enter length of side a: '))\n",
        "b = float(input('Enter length of side b: '))\n",
        "c = float(input('Enter length of side c: '))\n",
        "def validtriangle(a,b,c):\n",
        "\n",
        "  if a+b>=c and b+c>=a and c+a>=b:\n",
        "    return True\n",
        "  else:\n",
        "    return False\n",
        "\n",
        "if validtriangle(a,b,c):\n",
        "  print(\"valid triangle\")\n",
        "else:\n",
        "  print(\"triangle invalid\")\n"
      ],
      "metadata": {
        "id": "4GysOZhRy038"
      },
      "execution_count": null,
      "outputs": []
    },
    {
      "cell_type": "code",
      "source": [
        "# Program 5 - check if it is integer\n",
        "\n",
        "import re\n",
        "def isinteger():\n",
        "  x = input('enter an integer')\n",
        "  if x.isdigit() == True:\n",
        "    print('True')\n",
        "  else:\n",
        "    print('False')\n",
        "isinteger()\n"
      ],
      "metadata": {
        "id": "HJDIlscLE3O9",
        "colab": {
          "base_uri": "https://localhost:8080/"
        },
        "outputId": "a12c9635-e466-44e4-8ba9-dc00f712cd3e"
      },
      "execution_count": null,
      "outputs": [
        {
          "output_type": "stream",
          "name": "stdout",
          "text": [
            "enter an integer5\n",
            "True\n"
          ]
        }
      ]
    },
    {
      "cell_type": "code",
      "source": [
        "# program 6\n",
        "\n",
        "n =int(input(\"enter numbr\"))\n",
        "def prime(n):\n",
        "    np=[]\n",
        "    isprime=[]\n",
        "    for i in range (n+1,n+200):\n",
        "        np.append(i)\n",
        "    for x in range(2,199):\n",
        "        for j in np:\n",
        "            if x%j!=0:\n",
        "                isprime.append(x)\n",
        "    return min(isprime)\n",
        "\n",
        "prime(n)\n",
        "print(prime(n))"
      ],
      "metadata": {
        "colab": {
          "base_uri": "https://localhost:8080/"
        },
        "id": "1o0M2S8u0MG6",
        "outputId": "d4249209-6d34-432c-cb0b-f9c2e9fb6050"
      },
      "execution_count": null,
      "outputs": [
        {
          "output_type": "stream",
          "name": "stdout",
          "text": [
            "enter numbr5\n",
            "2\n"
          ]
        }
      ]
    },
    {
      "cell_type": "code",
      "source": [
        "# program 7\n",
        "\n",
        "import re\n",
        "def validate():\n",
        "    while True:\n",
        "        password = input(\"Enter a password: \")\n",
        "        if len(password) < 8:\n",
        "            print(\"Make sure your password is atleast 8 letters\")\n",
        "        elif re.search('[0-9]',password) is None:\n",
        "            print(\"Make sure your password has a number in it\")\n",
        "        elif re.search('[A-Z]',password) is None:\n",
        "            print(\"Make sure your password has a capital letter in it\")\n",
        "        elif re.search('[!,@,#,$,^,&]',password) is None:\n",
        "            print(\"Make sure password has special characters\")\n",
        "        else:\n",
        "            print(\"Your password seems fine\")\n",
        "            break\n",
        "\n",
        "validate()"
      ],
      "metadata": {
        "colab": {
          "base_uri": "https://localhost:8080/"
        },
        "id": "DwrDL8h8zG0y",
        "outputId": "6d8bf190-f713-433e-d0a0-f98c447f6f59"
      },
      "execution_count": null,
      "outputs": [
        {
          "output_type": "stream",
          "name": "stdout",
          "text": [
            "enter passwordAravind133\n",
            "password is bad\n"
          ]
        }
      ]
    },
    {
      "cell_type": "code",
      "source": [
        "# Program 8 - Recursive function\n",
        "\n",
        "def sum_numbers(numbers):\n",
        "        if len(numbers) == 0:\n",
        "            return 0\n",
        "        return numbers[0] + sum_numbers(numbers[1:])\n",
        "\n",
        "sum_numbers([3,4,5,6,7])\n"
      ],
      "metadata": {
        "id": "lHUt1YKDJHLB"
      },
      "execution_count": null,
      "outputs": []
    },
    {
      "cell_type": "code",
      "source": [
        "# Program 9\n",
        "n = str(input('enter a string'))\n",
        "\n",
        "def palindrome():\n",
        "  if n == n[::-1]:\n",
        "    print('it is a palindrome')\n",
        "  else:\n",
        "    print('it is not a palindrome')\n",
        "palindrome()"
      ],
      "metadata": {
        "id": "iWOWAdqvWOK1"
      },
      "execution_count": null,
      "outputs": []
    },
    {
      "cell_type": "code",
      "source": [
        "# program 10\n",
        "\n",
        "data = list(input('enter a word'))\n",
        "while True:\n",
        "    line = list(input('enter a word'))\n",
        "    if line:\n",
        "        data.extend(line)\n",
        "    else:\n",
        "        break\n",
        "newdata = ''.join(data)\n",
        "print(newdata)"
      ],
      "metadata": {
        "id": "cQQz_WFG_ZwT"
      },
      "execution_count": null,
      "outputs": []
    }
  ]
}